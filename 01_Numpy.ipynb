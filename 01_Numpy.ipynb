{
 "cells": [
  {
   "cell_type": "markdown",
   "id": "613852f3",
   "metadata": {},
   "source": [
    "# Introducción a Numpy\n",
    "\n",
    "[Numpy](https://numpy.org/doc/stable) es una biblioteca fundamental para la computación cientifica con python.\n",
    "\n",
    "*Proporciona Arrays N-dimencionales\n",
    "*Implementa funciones matematicas sofisticadas\n",
    "*Proporciona herramientas para integrar C/C++ Y Fortan\n",
    "*Proporciona mecanismos para facilitar la realizacion de tareas relacionadas con algebra lineal o numeros aleatorios\n"
   ]
  },
  {
   "cell_type": "markdown",
   "id": "6aaf0080",
   "metadata": {},
   "source": [
    "# Imports"
   ]
  },
  {
   "cell_type": "code",
   "execution_count": 3,
   "id": "94e6abb6",
   "metadata": {},
   "outputs": [],
   "source": [
    "import numpy as np"
   ]
  },
  {
   "cell_type": "markdown",
   "id": "9604d509",
   "metadata": {},
   "source": [
    "## Arrays\n",
    "\n",
    "Un **array** es una estructura de datos que consiste en una coleccion de elementos (variables o valores), cada uno identificado por almenos un indice o clave. Un array se almacena de modo que la posicion de su tupla de indice mediante su formula matematica. el tipo mas simple de un array es un array lineal, tambien llamado array unidimencional.\n",
    "\n",
    "en Numpy:\n",
    "* Cada dimencion se denomina **axis**\n",
    "* El numero de dimenciones se denomina **rank**\n",
    "* La lista de dimenciones con su correspondiente longitud se denomina **shape**\n",
    "* El numero de elementos(Multiplicado por la longitud de las dimenciones) se denomina **size**\n"
   ]
  },
  {
   "cell_type": "code",
   "execution_count": 4,
   "id": "89cf8c4f",
   "metadata": {},
   "outputs": [
    {
     "data": {
      "text/plain": [
       "array([[0., 0., 0., 0.],\n",
       "       [0., 0., 0., 0.],\n",
       "       [0., 0., 0., 0.]])"
      ]
     },
     "execution_count": 4,
     "metadata": {},
     "output_type": "execute_result"
    }
   ],
   "source": [
    "# Array cuyos valores son 0\n",
    "a = np.zeros((3,4))\n",
    "a"
   ]
  },
  {
   "cell_type": "markdown",
   "id": "7616870f",
   "metadata": {},
   "source": [
    "_**a**es un array:\n",
    "* con dos **axis**, el primero de longitud 2 y el segundo de longitud 4.\n",
    "* Con un **rank** igual a 2.\n",
    "* Con un **Shape** igual (3,4)\n",
    "* Con un **size** igual a 12"
   ]
  },
  {
   "cell_type": "markdown",
   "id": "fba0be8a",
   "metadata": {},
   "source": []
  },
  {
   "cell_type": "markdown",
   "id": "a68773ad",
   "metadata": {},
   "source": [
    "## Creacion de Arrays"
   ]
  },
  {
   "cell_type": "code",
   "execution_count": 5,
   "id": "0e3462e6",
   "metadata": {},
   "outputs": [
    {
     "data": {
      "text/plain": [
       "array([[[0., 0., 0., 0.],\n",
       "        [0., 0., 0., 0.],\n",
       "        [0., 0., 0., 0.]],\n",
       "\n",
       "       [[0., 0., 0., 0.],\n",
       "        [0., 0., 0., 0.],\n",
       "        [0., 0., 0., 0.]]])"
      ]
     },
     "execution_count": 5,
     "metadata": {},
     "output_type": "execute_result"
    }
   ],
   "source": [
    "# Arrays cuyos valores son 0\n",
    "np.zeros((2, 3, 4))"
   ]
  },
  {
   "cell_type": "code",
   "execution_count": 6,
   "id": "f4fa4269",
   "metadata": {},
   "outputs": [
    {
     "data": {
      "text/plain": [
       "array([[[1., 1., 1., 1.],\n",
       "        [1., 1., 1., 1.],\n",
       "        [1., 1., 1., 1.]],\n",
       "\n",
       "       [[1., 1., 1., 1.],\n",
       "        [1., 1., 1., 1.],\n",
       "        [1., 1., 1., 1.]]])"
      ]
     },
     "execution_count": 6,
     "metadata": {},
     "output_type": "execute_result"
    }
   ],
   "source": [
    "# Array cuyos valores son todos 1\n",
    "np.ones((2, 3, 4))"
   ]
  },
  {
   "cell_type": "code",
   "execution_count": 7,
   "id": "27ca9221",
   "metadata": {},
   "outputs": [
    {
     "data": {
      "text/plain": [
       "array([[[8, 8, 8, 8],\n",
       "        [8, 8, 8, 8],\n",
       "        [8, 8, 8, 8]],\n",
       "\n",
       "       [[8, 8, 8, 8],\n",
       "        [8, 8, 8, 8],\n",
       "        [8, 8, 8, 8]]])"
      ]
     },
     "execution_count": 7,
     "metadata": {},
     "output_type": "execute_result"
    }
   ],
   "source": [
    "# Array cuyos valores son todos el valor indicado del segundo\n",
    "# parametros de la funcion\n",
    "np.full((2, 3, 4), 8)"
   ]
  },
  {
   "cell_type": "code",
   "execution_count": 8,
   "id": "8728337a",
   "metadata": {},
   "outputs": [
    {
     "data": {
      "text/plain": [
       "array([[[7.77109827e-317, 1.03162165e-311, 6.86964531e-313,\n",
       "         0.00000000e+000, 1.69484279e-319, 6.86964529e-313,\n",
       "         0.00000000e+000, 1.03161133e-311, 0.00000000e+000],\n",
       "        [0.00000000e+000, 0.00000000e+000, 1.03160102e-311,\n",
       "         0.00000000e+000, 3.95252517e-323, 6.95181163e-310,\n",
       "         2.02369289e-320, 3.95252517e-323, 6.95181163e-310],\n",
       "        [9.88131292e-324, 0.00000000e+000, 0.00000000e+000,\n",
       "         6.07107866e-319, 0.00000000e+000,             nan,\n",
       "         0.00000000e+000, 4.67296746e-307, 1.69121096e-306]],\n",
       "\n",
       "       [[1.95820216e-306, 1.89146896e-307, 7.56571288e-307,\n",
       "         3.11525958e-307, 1.24610723e-306, 1.37962320e-306,\n",
       "         1.29060871e-306, 2.22518251e-306, 1.33511969e-306],\n",
       "        [1.78022342e-306, 1.05700345e-307, 3.11525958e-307,\n",
       "         1.69118108e-306, 8.06632139e-308, 1.20160711e-306,\n",
       "         1.69119330e-306, 1.29062229e-306, 1.24610383e-306],\n",
       "        [1.24610723e-306, 1.86919106e-306, 1.06811422e-306,\n",
       "         1.33511562e-306, 8.34446411e-308, 9.45699680e-308,\n",
       "         1.11261774e-306, 1.29060871e-306, 8.34424766e-308]]])"
      ]
     },
     "execution_count": 8,
     "metadata": {},
     "output_type": "execute_result"
    }
   ],
   "source": [
    "# El resultado de numpy.empety no es predecible.\n",
    "# NOTA: inicializa los valores del array con lo que haya en memoria en ese moemnto\n",
    "np.empty((2, 3, 9))"
   ]
  },
  {
   "cell_type": "code",
   "execution_count": 9,
   "id": "2481ace8",
   "metadata": {},
   "outputs": [
    {
     "data": {
      "text/plain": [
       "array([[1, 2, 3],\n",
       "       [4, 5, 6]])"
      ]
     },
     "execution_count": 9,
     "metadata": {},
     "output_type": "execute_result"
    }
   ],
   "source": [
    "# inicializacion de un array utilizando un array de python\n",
    "b = np.array([[1, 2, 3], [4, 5, 6]])\n",
    "b"
   ]
  },
  {
   "cell_type": "code",
   "execution_count": 10,
   "id": "58d547ff",
   "metadata": {},
   "outputs": [
    {
     "name": "stdout",
     "output_type": "stream",
     "text": [
      "[0.         0.66666667 1.33333333 2.         2.66666667 3.33333333\n",
      " 4.         4.66666667 5.33333333 6.        ]\n"
     ]
    }
   ],
   "source": [
    "# Crear un array con una funcion basada en rangos.\n",
    "#(nimino, maximo, no.elemtenos del array)\n",
    "print(np.linspace(0, 6, 10))\n"
   ]
  },
  {
   "cell_type": "code",
   "execution_count": 11,
   "id": "c1ae8b49",
   "metadata": {},
   "outputs": [
    {
     "data": {
      "text/plain": [
       "array([[[0.98479123, 0.25850587, 0.13112198, 0.39248306],\n",
       "        [0.47745959, 0.55095062, 0.08089209, 0.28362286],\n",
       "        [0.27912278, 0.48972471, 0.19078958, 0.51066516]],\n",
       "\n",
       "       [[0.7125262 , 0.00282401, 0.48306433, 0.23728949],\n",
       "        [0.68629059, 0.14952738, 0.17706176, 0.72448403],\n",
       "        [0.41767237, 0.16707551, 0.0508612 , 0.43286281]]])"
      ]
     },
     "execution_count": 11,
     "metadata": {},
     "output_type": "execute_result"
    }
   ],
   "source": [
    "# Inizializar u array con valores aleatorios\n",
    "np.random.rand(2, 3, 4)"
   ]
  },
  {
   "cell_type": "code",
   "execution_count": 12,
   "id": "03fbac82",
   "metadata": {},
   "outputs": [
    {
     "data": {
      "text/plain": [
       "array([[0.24143381, 0.55975962, 0.6482514 , 0.7294642 ],\n",
       "       [0.00144849, 0.54541463, 0.82130791, 0.17462561]])"
      ]
     },
     "execution_count": 12,
     "metadata": {},
     "output_type": "execute_result"
    }
   ],
   "source": [
    "# inicializar un array con valores aleatorios conforme a una distribucion normal\n",
    "np.random.rand(2, 4)"
   ]
  },
  {
   "cell_type": "code",
   "execution_count": 13,
   "id": "6b78ceca",
   "metadata": {},
   "outputs": [
    {
     "data": {
      "text/plain": [
       "<function matplotlib.pyplot.show(close=None, block=None)>"
      ]
     },
     "execution_count": 13,
     "metadata": {},
     "output_type": "execute_result"
    },
    {
     "data": {
      "image/png": "[encoded data removed]",
      "text/plain": [
       "<Figure size 640x480 with 1 Axes>"
      ]
     },
     "metadata": {},
     "output_type": "display_data"
    }
   ],
   "source": [
    "%matplotlib inline\n",
    "import matplotlib.pyplot as plt   \n",
    "\n",
    "c = np.random.randn(10000)\n",
    "plt.hist(c, bins=90)\n",
    "plt.show"
   ]
  },
  {
   "cell_type": "code",
   "execution_count": 14,
   "id": "3bfd46d0",
   "metadata": {},
   "outputs": [
    {
     "data": {
      "text/plain": [
       "array([[ 0.,  2.,  4.,  6.,  8.],\n",
       "       [ 1.,  3.,  5.,  7.,  9.],\n",
       "       [ 2.,  4.,  6.,  8., 10.]])"
      ]
     },
     "execution_count": 14,
     "metadata": {},
     "output_type": "execute_result"
    }
   ],
   "source": [
    "# Inicialiazr un aaray utilizando una funcion personalizada\n",
    "\n",
    "def func(x, y):\n",
    "    return x + 2 * y\n",
    "\n",
    "np.fromfunction(func,(3,5))"
   ]
  },
  {
   "cell_type": "markdown",
   "id": "7efc7fa7",
   "metadata": {},
   "source": [
    "### Acceso a los elementos de un Array\n",
    "\n",
    "#### Array unidimencional"
   ]
  },
  {
   "cell_type": "code",
   "execution_count": 15,
   "id": "cabed330",
   "metadata": {},
   "outputs": [
    {
     "name": "stdout",
     "output_type": "stream",
     "text": [
      "Shape:  (6,)\n",
      "Array_uni [ 1  3  5  7  9 11]\n"
     ]
    }
   ],
   "source": [
    "# Crear un Array Unidimencional\n",
    "array_uni = np.array([1, 3, 5, 7, 9, 11])\n",
    "print(\"Shape: \", array_uni.shape)\n",
    "print(\"Array_uni\", array_uni)"
   ]
  },
  {
   "cell_type": "code",
   "execution_count": 16,
   "id": "9041118f",
   "metadata": {},
   "outputs": [
    {
     "data": {
      "text/plain": [
       "np.int64(9)"
      ]
     },
     "execution_count": 16,
     "metadata": {},
     "output_type": "execute_result"
    }
   ],
   "source": [
    "# Acceder al 5th elemento del array\n",
    "array_uni[4]"
   ]
  },
  {
   "cell_type": "code",
   "execution_count": 17,
   "id": "a14e33f3",
   "metadata": {},
   "outputs": [
    {
     "data": {
      "text/plain": [
       "array([5, 7])"
      ]
     },
     "execution_count": 17,
     "metadata": {},
     "output_type": "execute_result"
    }
   ],
   "source": [
    "# Acceer al3rd y 4th elemento del array\n",
    "array_uni[2:4]"
   ]
  },
  {
   "cell_type": "code",
   "execution_count": 18,
   "id": "a9b18ea4",
   "metadata": {},
   "outputs": [
    {
     "data": {
      "text/plain": [
       "array([ 1,  7, 11])"
      ]
     },
     "execution_count": 18,
     "metadata": {},
     "output_type": "execute_result"
    }
   ],
   "source": [
    "# Acceder al elemnto 0, 3 y 5 del array\n",
    "array_uni[[0, 3, 5]]"
   ]
  },
  {
   "cell_type": "markdown",
   "id": "36232567",
   "metadata": {},
   "source": [
    "#### Array multidimencional"
   ]
  },
  {
   "cell_type": "code",
   "execution_count": 19,
   "id": "a3140b95",
   "metadata": {},
   "outputs": [
    {
     "name": "stdout",
     "output_type": "stream",
     "text": [
      "Shape:  (2, 4)\n",
      "Array_multi:\n",
      " [[1 2 3 4]\n",
      " [5 6 7 8]]\n"
     ]
    }
   ],
   "source": [
    "# Crear un Array multidimencional\n",
    "array_multi = np.array([[1, 2, 3, 4], [5, 6, 7, 8]])\n",
    "print(\"Shape: \", array_multi.shape)\n",
    "print(\"Array_multi:\\n\", array_multi)"
   ]
  },
  {
   "cell_type": "code",
   "execution_count": 20,
   "id": "e1415489",
   "metadata": {},
   "outputs": [
    {
     "data": {
      "text/plain": [
       "np.int64(4)"
      ]
     },
     "execution_count": 20,
     "metadata": {},
     "output_type": "execute_result"
    }
   ],
   "source": [
    "# Acceder al 4th elemento del array\n",
    "array_multi[0, 3]"
   ]
  },
  {
   "cell_type": "code",
   "execution_count": 21,
   "id": "fc4026f4",
   "metadata": {},
   "outputs": [
    {
     "data": {
      "text/plain": [
       "array([5, 6, 7, 8])"
      ]
     },
     "execution_count": 21,
     "metadata": {},
     "output_type": "execute_result"
    }
   ],
   "source": [
    "# Acceder a la segunda fila del array\n",
    "array_multi[1, :]"
   ]
  },
  {
   "cell_type": "code",
   "execution_count": 22,
   "id": "03720841",
   "metadata": {},
   "outputs": [
    {
     "data": {
      "text/plain": [
       "array([3, 7])"
      ]
     },
     "execution_count": 22,
     "metadata": {},
     "output_type": "execute_result"
    }
   ],
   "source": [
    "# Acceder al tercer elemnto de las primeras filas del array\n",
    "array_multi[0: 2, 2]"
   ]
  },
  {
   "cell_type": "markdown",
   "id": "b298adb8",
   "metadata": {},
   "source": [
    "#### Modificar un array"
   ]
  },
  {
   "cell_type": "code",
   "execution_count": 23,
   "id": "bcf1643d",
   "metadata": {},
   "outputs": [
    {
     "name": "stdout",
     "output_type": "stream",
     "text": [
      "Shape:  (28,)\n",
      "Array 1:\n",
      " [ 0  1  2  3  4  5  6  7  8  9 10 11 12 13 14 15 16 17 18 19 20 21 22 23\n",
      " 24 25 26 27]\n"
     ]
    }
   ],
   "source": [
    "# Crear un array unidimencional e inicializarlo con el rango de elemntos dle 0 - 27\n",
    "array1 = np.arange(28)\n",
    "print(\"Shape: \", array1.shape)\n",
    "print(\"Array 1:\\n\", array1)"
   ]
  },
  {
   "cell_type": "code",
   "execution_count": 24,
   "id": "4ea5f082",
   "metadata": {},
   "outputs": [
    {
     "name": "stdout",
     "output_type": "stream",
     "text": [
      "shape:  (7, 4)\n",
      "Array1:\n",
      " [[ 0  1  2  3]\n",
      " [ 4  5  6  7]\n",
      " [ 8  9 10 11]\n",
      " [12 13 14 15]\n",
      " [16 17 18 19]\n",
      " [20 21 22 23]\n",
      " [24 25 26 27]]\n"
     ]
    }
   ],
   "source": [
    "# Cambiar las dimenciones del array y sus longitudes\n",
    "array1.shape = (7, 4)\n",
    "print(\"shape: \", array1.shape)\n",
    "print(\"Array1:\\n\", array1)"
   ]
  },
  {
   "cell_type": "code",
   "execution_count": 25,
   "id": "2ea75167",
   "metadata": {},
   "outputs": [
    {
     "name": "stdout",
     "output_type": "stream",
     "text": [
      "Shape: 2:\n",
      " [[ 0  1  2  3  4  5  6]\n",
      " [ 7  8  9 10 11 12 13]\n",
      " [14 15 16 17 18 19 20]\n",
      " [21 22 23 24 25 26 27]]\n",
      "Array1:\n",
      "  [[ 0  1  2  3]\n",
      " [ 4  5  6  7]\n",
      " [ 8  9 10 11]\n",
      " [12 13 14 15]\n",
      " [16 17 18 19]\n",
      " [20 21 22 23]\n",
      " [24 25 26 27]]\n"
     ]
    }
   ],
   "source": [
    "# El ejemplo anterior devuelve un nuevo aray que apunta a los mismos datos\n",
    "# NOTA: las modificaciones de un array modeifican el otro array.\n",
    "\n",
    "array2 = array1.reshape(4, 7)\n",
    "print(\"Shape: 2:\\n\", array2)\n",
    "print(\"Array1:\\n \", array1)"
   ]
  },
  {
   "cell_type": "code",
   "execution_count": 26,
   "id": "b4efdc11",
   "metadata": {},
   "outputs": [
    {
     "name": "stdout",
     "output_type": "stream",
     "text": [
      "Array 1:  [ 0  1  2  3  4  5  6  7  8  9 10 11 12 13 14 15 16 17 18 19 20 21 22 23\n",
      " 24 25 26 27]\n"
     ]
    }
   ],
   "source": [
    "# Regresar el Array devolvieno un nuevo array de una sola dimencion\n",
    "# El nuevo array apuenta a los nuevos datos.\n",
    "print(\"Array 1: \", array1.ravel())"
   ]
  },
  {
   "cell_type": "markdown",
   "id": "d0124c98",
   "metadata": {},
   "source": [
    "## Operaciones con aritmeticas con Arrays"
   ]
  },
  {
   "cell_type": "code",
   "execution_count": 29,
   "id": "8e003242",
   "metadata": {},
   "outputs": [
    {
     "name": "stdout",
     "output_type": "stream",
     "text": [
      "Array 1:  [ 2  4  6  8 10 12 14 16]\n",
      "Array 2:  [0 1 2 3 4 5 6 7]\n"
     ]
    }
   ],
   "source": [
    "# Crear 2 arrays unidimencionales\n",
    "array1 = np.arange(2, 18, 2)\n",
    "array2 = np.arange(8)\n",
    "print(\"Array 1: \", array1)\n",
    "print(\"Array 2: \", array2)"
   ]
  },
  {
   "cell_type": "code",
   "execution_count": 30,
   "id": "98b23f43",
   "metadata": {},
   "outputs": [
    {
     "name": "stdout",
     "output_type": "stream",
     "text": [
      "[2 3 4 5 6 7 8 9]\n"
     ]
    }
   ],
   "source": [
    "# Resta\n",
    "print(array1 - array2)"
   ]
  },
  {
   "cell_type": "code",
   "execution_count": 31,
   "id": "2cf40ebe",
   "metadata": {},
   "outputs": [
    {
     "name": "stdout",
     "output_type": "stream",
     "text": [
      "[ 2  5  8 11 14 17 20 23]\n"
     ]
    }
   ],
   "source": [
    "# Suma\n",
    "print(array1 + array2)"
   ]
  },
  {
   "cell_type": "code",
   "execution_count": 32,
   "id": "5a50ecb7",
   "metadata": {},
   "outputs": [
    {
     "name": "stdout",
     "output_type": "stream",
     "text": [
      "[  0   4  12  24  40  60  84 112]\n"
     ]
    }
   ],
   "source": [
    "# multiplicacion\n",
    "# Nota: No es una multiplicacion de matrices.\n",
    "\n",
    "print(array1 * array2)"
   ]
  },
  {
   "cell_type": "markdown",
   "id": "98b747c3",
   "metadata": {},
   "source": [
    "## Broad Casting se aplican operaciones aritmeticas sobre arrays que no tienen la misma forma(shape), numpy aplica una propiedad que se denomina Broad Casting.\n"
   ]
  },
  {
   "cell_type": "code",
   "execution_count": 36,
   "id": "3dd4f023",
   "metadata": {},
   "outputs": [
    {
     "name": "stdout",
     "output_type": "stream",
     "text": [
      "Shape Array 1:  (5,)\n",
      "Array 1  [0 1 2 3 4]\n",
      "\n",
      "shape Array 2:  (1,)\n",
      "array2:  (1,)\n",
      "array2:  [3]\n"
     ]
    }
   ],
   "source": [
    "# Crear 2 arrays unidimencionales\n",
    "array1 = np.arange(5)\n",
    "array2 = np.array([3])\n",
    "print(\"Shape Array 1: \", array1.shape)\n",
    "print(\"Array 1 \", array1)\n",
    "print(\"\")\n",
    "print(\"shape Array 2: \", array2.shape)\n",
    "print(\"array2: \",array2.shape)\n",
    "print(\"array2: \", array2)"
   ]
  },
  {
   "cell_type": "code",
   "execution_count": 37,
   "id": "4695b152",
   "metadata": {},
   "outputs": [
    {
     "name": "stdout",
     "output_type": "stream",
     "text": [
      "Shape Array 1:  (2, 3)\n",
      "Array1:\n",
      " [[0 1 2]\n",
      " [3 4 5]]\n",
      "\n",
      "Shape Array 2:  (3,)\n",
      "array2:  [ 6 10 14]\n"
     ]
    }
   ],
   "source": [
    "# Crear 2 arrays Multidimencional y unidimencional\n",
    "array1 = np.arange(6)\n",
    "array1.shape = (2,3)\n",
    "array2 = np.arange(6, 18, 4)\n",
    "print(\"Shape Array 1: \", array1.shape)\n",
    "print(\"Array1:\\n\", array1)\n",
    "print(\"\")\n",
    "print(\"Shape Array 2: \", array2.shape)\n",
    "print(\"array2: \", array2)"
   ]
  },
  {
   "cell_type": "code",
   "execution_count": 38,
   "id": "7df4efeb",
   "metadata": {},
   "outputs": [
    {
     "data": {
      "text/plain": [
       "array([[ 6, 11, 16],\n",
       "       [ 9, 14, 19]])"
      ]
     },
     "execution_count": 38,
     "metadata": {},
     "output_type": "execute_result"
    }
   ],
   "source": [
    "# Sumar ambos arrays\n",
    "array1 + array2"
   ]
  },
  {
   "cell_type": "markdown",
   "id": "60df4725",
   "metadata": {},
   "source": [
    "## Funciones Estadisticas sobre Arrays"
   ]
  },
  {
   "cell_type": "code",
   "execution_count": 39,
   "id": "dd8ef97b",
   "metadata": {},
   "outputs": [
    {
     "name": "stdout",
     "output_type": "stream",
     "text": [
      "ARRAY 1:  [ 1  3  5  7  9 11 13 15 17 19]\n"
     ]
    }
   ],
   "source": [
    "# Crear un array unidimencional\n",
    "array1 = np.arange(1, 20, 2)\n",
    "print(\"ARRAY 1: \", array1)"
   ]
  },
  {
   "cell_type": "code",
   "execution_count": 40,
   "id": "4649f0c3",
   "metadata": {},
   "outputs": [
    {
     "data": {
      "text/plain": [
       "np.int64(100)"
      ]
     },
     "execution_count": 40,
     "metadata": {},
     "output_type": "execute_result"
    }
   ],
   "source": [
    "# Media de los elementos del array\n",
    "array1.sum()"
   ]
  },
  {
   "cell_type": "markdown",
   "id": "d614f76d",
   "metadata": {},
   "source": [
    "### Funciones universales proporcionales por numpy"
   ]
  },
  {
   "cell_type": "code",
   "execution_count": 41,
   "id": "8f175e19",
   "metadata": {},
   "outputs": [
    {
     "data": {
      "text/plain": [
       "array([  1,   9,  25,  49,  81, 121, 169, 225, 289, 361])"
      ]
     },
     "execution_count": 41,
     "metadata": {},
     "output_type": "execute_result"
    }
   ],
   "source": [
    "# Cuadrado de los elementos del array\n",
    "np.square(array1)"
   ]
  },
  {
   "cell_type": "code",
   "execution_count": 42,
   "id": "1bde7c99",
   "metadata": {},
   "outputs": [
    {
     "data": {
      "text/plain": [
       "array([1.        , 1.73205081, 2.23606798, 2.64575131, 3.        ,\n",
       "       3.31662479, 3.60555128, 3.87298335, 4.12310563, 4.35889894])"
      ]
     },
     "execution_count": 42,
     "metadata": {},
     "output_type": "execute_result"
    }
   ],
   "source": [
    "# Raiz cuadrada de los elemntos del array\n",
    "np.sqrt(array1)"
   ]
  },
  {
   "cell_type": "code",
   "execution_count": 43,
   "id": "5b06f2fc",
   "metadata": {},
   "outputs": [
    {
     "data": {
      "text/plain": [
       "array([2.71828183e+00, 2.00855369e+01, 1.48413159e+02, 1.09663316e+03,\n",
       "       8.10308393e+03, 5.98741417e+04, 4.42413392e+05, 3.26901737e+06,\n",
       "       2.41549528e+07, 1.78482301e+08])"
      ]
     },
     "execution_count": 43,
     "metadata": {},
     "output_type": "execute_result"
    }
   ],
   "source": [
    "# Exponencial de los elemntos del array\n",
    "np.exp(array1)"
   ]
  },
  {
   "cell_type": "code",
   "execution_count": 44,
   "id": "98e253f7",
   "metadata": {},
   "outputs": [
    {
     "data": {
      "text/plain": [
       "array([0.        , 1.09861229, 1.60943791, 1.94591015, 2.19722458,\n",
       "       2.39789527, 2.56494936, 2.7080502 , 2.83321334, 2.94443898])"
      ]
     },
     "execution_count": 44,
     "metadata": {},
     "output_type": "execute_result"
    }
   ],
   "source": [
    "# Logaritmo natural de los elemntos del array\n",
    "np.log(array1)"
   ]
  },
  {
   "cell_type": "code",
   "execution_count": null,
   "id": "cba6c038",
   "metadata": {},
   "outputs": [],
   "source": []
  }
 ],
 "metadata": {
  "kernelspec": {
   "display_name": "Python 3",
   "language": "python",
   "name": "python3"
  },
  "language_info": {
   "codemirror_mode": {
    "name": "ipython",
    "version": 3
   },
   "file_extension": ".py",
   "mimetype": "text/x-python",
   "name": "python",
   "nbconvert_exporter": "python",
   "pygments_lexer": "ipython3",
   "version": "3.12.5"
  }
 },
 "nbformat": 4,
 "nbformat_minor": 5
}
