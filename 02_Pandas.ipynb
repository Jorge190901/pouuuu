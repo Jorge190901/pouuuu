{
 "cells": [
  {
   "cell_type": "markdown",
   "id": "2d5c84d7",
   "metadata": {},
   "source": [
    "# Introducción a Pandas\n",
    "\n",
    "[Pandas org](https://pandas.pydata.org) es una biblioteca que proporciona estructuras de datosy herramientas de analisis de datos de alto rendimiento y faciles de usar.\n",
    "\n",
    "* la estructura de datos principal es el dataFrame que puede considerarse como una tabla 2D en memoria (como una hoja de calculo, con nombres de columna y etiquetas de fila).\n",
    "* Muchas funciones Disponibles en Exel estan disponibles mediante programacion, como crear tablas dinamicas, calcular columnas basadas en otras columnas, trazar graficos.\n"
   ]
  },
  {
   "cell_type": "markdown",
   "id": "46c3abf5",
   "metadata": {},
   "source": [
    "### Crear un Objeto DataFraem\n"
   ]
  },
  {
   "cell_type": "code",
   "execution_count": null,
   "id": "8f0b7925",
   "metadata": {},
   "outputs": [],
   "source": []
  },
  {
   "cell_type": "code",
   "execution_count": 2,
   "id": "950732ad",
   "metadata": {},
   "outputs": [
    {
     "name": "stdout",
     "output_type": "stream",
     "text": [
      "Defaulting to user installation because normal site-packages is not writeable\n",
      "Requirement already satisfied: pandas in /home/carpio/.local/lib/python3.13/site-packages (2.3.1)\n",
      "Requirement already satisfied: numpy>=1.26.0 in /home/carpio/.local/lib/python3.13/site-packages (from pandas) (2.3.1)\n",
      "Requirement already satisfied: python-dateutil>=2.8.2 in /usr/lib/python3.13/site-packages (from pandas) (2.8.2)\n",
      "Requirement already satisfied: pytz>=2020.1 in /home/carpio/.local/lib/python3.13/site-packages (from pandas) (2025.2)\n",
      "Requirement already satisfied: tzdata>=2022.7 in /home/carpio/.local/lib/python3.13/site-packages (from pandas) (2025.2)\n",
      "Requirement already satisfied: six>=1.5 in /usr/lib/python3.13/site-packages (from python-dateutil>=2.8.2->pandas) (1.17.0)\n"
     ]
    }
   ],
   "source": [
    "!pip install pandas"
   ]
  },
  {
   "cell_type": "code",
   "execution_count": 18,
   "id": "4a6d582f",
   "metadata": {},
   "outputs": [],
   "source": [
    "import pandas as pd\n"
   ]
  },
  {
   "cell_type": "code",
   "execution_count": 19,
   "id": "9bf1e5de",
   "metadata": {},
   "outputs": [],
   "source": [
    "personas = {\n",
    "    \"peso\": pd.Series([234, 23, 56, 895], [\"mario\", \"tenjai\", \"Juan\", \"Xarolos\"]),\n",
    "    \"Altura\": pd.Series({\"mario\": 213, \"tenjai\": 234, \"Juan\":34, \"Xarolos\": 45}),\n",
    "    \"Hijos\": pd.Series([1,0], [\"mario\", \"tenjai\"])\n",
    "}"
   ]
  },
  {
   "cell_type": "code",
   "execution_count": 20,
   "id": "0e96c05d",
   "metadata": {},
   "outputs": [
    {
     "data": {
      "text/html": [
       "<div>\n",
       "<style scoped>\n",
       "    .dataframe tbody tr th:only-of-type {\n",
       "        vertical-align: middle;\n",
       "    }\n",
       "\n",
       "    .dataframe tbody tr th {\n",
       "        vertical-align: top;\n",
       "    }\n",
       "\n",
       "    .dataframe thead th {\n",
       "        text-align: right;\n",
       "    }\n",
       "</style>\n",
       "<table border=\"1\" class=\"dataframe\">\n",
       "  <thead>\n",
       "    <tr style=\"text-align: right;\">\n",
       "      <th></th>\n",
       "      <th>peso</th>\n",
       "      <th>Altura</th>\n",
       "      <th>Hijos</th>\n",
       "    </tr>\n",
       "  </thead>\n",
       "  <tbody>\n",
       "    <tr>\n",
       "      <th>Juan</th>\n",
       "      <td>56</td>\n",
       "      <td>34</td>\n",
       "      <td>NaN</td>\n",
       "    </tr>\n",
       "    <tr>\n",
       "      <th>Xarolos</th>\n",
       "      <td>895</td>\n",
       "      <td>45</td>\n",
       "      <td>NaN</td>\n",
       "    </tr>\n",
       "    <tr>\n",
       "      <th>mario</th>\n",
       "      <td>234</td>\n",
       "      <td>213</td>\n",
       "      <td>1.0</td>\n",
       "    </tr>\n",
       "    <tr>\n",
       "      <th>tenjai</th>\n",
       "      <td>23</td>\n",
       "      <td>234</td>\n",
       "      <td>0.0</td>\n",
       "    </tr>\n",
       "  </tbody>\n",
       "</table>\n",
       "</div>"
      ],
      "text/plain": [
       "         peso  Altura  Hijos\n",
       "Juan       56      34    NaN\n",
       "Xarolos   895      45    NaN\n",
       "mario     234     213    1.0\n",
       "tenjai     23     234    0.0"
      ]
     },
     "execution_count": 20,
     "metadata": {},
     "output_type": "execute_result"
    }
   ],
   "source": [
    "\n",
    "df = pd.DataFrame(personas)\n",
    "\n",
    "df"
   ]
  },
  {
   "cell_type": "code",
   "execution_count": 21,
   "id": "4467c010",
   "metadata": {},
   "outputs": [],
   "source": [
    "# Crear un DataFrame e inicializarlo con una lista de listas\n",
    "# NOTA: Deben de speecificarse las columnas e indices por separado\n",
    "\n",
    "valores=[\n",
    "                  [185, 1, 78],\n",
    "                  [160, 1, 67],\n",
    "                  [154, 0, 56]\n",
    "                  ]\n",
    "df = pd.DataFrame(\n",
    "    valores,\n",
    "    columns=[\"Altura\", \"Hijos\", \"Peso\"],\n",
    "    index=[\"dksa\", \"sadksa\",\"lksadjlsad\"]\n",
    ")"
   ]
  },
  {
   "cell_type": "markdown",
   "id": "87371ede",
   "metadata": {},
   "source": [
    "### Acceso a los elementos de un dataframe"
   ]
  },
  {
   "cell_type": "code",
   "execution_count": 22,
   "id": "f54dab3d",
   "metadata": {},
   "outputs": [
    {
     "data": {
      "text/html": [
       "<div>\n",
       "<style scoped>\n",
       "    .dataframe tbody tr th:only-of-type {\n",
       "        vertical-align: middle;\n",
       "    }\n",
       "\n",
       "    .dataframe tbody tr th {\n",
       "        vertical-align: top;\n",
       "    }\n",
       "\n",
       "    .dataframe thead th {\n",
       "        text-align: right;\n",
       "    }\n",
       "</style>\n",
       "<table border=\"1\" class=\"dataframe\">\n",
       "  <thead>\n",
       "    <tr style=\"text-align: right;\">\n",
       "      <th></th>\n",
       "      <th>Altura</th>\n",
       "      <th>Peso</th>\n",
       "      <th>Hijos</th>\n",
       "    </tr>\n",
       "  </thead>\n",
       "  <tbody>\n",
       "    <tr>\n",
       "      <th>dksa</th>\n",
       "      <td>185</td>\n",
       "      <td>78</td>\n",
       "      <td>0</td>\n",
       "    </tr>\n",
       "    <tr>\n",
       "      <th>sadksa</th>\n",
       "      <td>160</td>\n",
       "      <td>67</td>\n",
       "      <td>40</td>\n",
       "    </tr>\n",
       "    <tr>\n",
       "      <th>lksadjlsad</th>\n",
       "      <td>154</td>\n",
       "      <td>56</td>\n",
       "      <td>3</td>\n",
       "    </tr>\n",
       "  </tbody>\n",
       "</table>\n",
       "</div>"
      ],
      "text/plain": [
       "            Altura  Peso  Hijos\n",
       "dksa           185    78      0\n",
       "sadksa         160    67     40\n",
       "lksadjlsad     154    56      3"
      ]
     },
     "execution_count": 22,
     "metadata": {},
     "output_type": "execute_result"
    }
   ],
   "source": [
    "personas = {\n",
    "    \"Altura\": {\"dksa\": 185, \"sadksa\":160, \"lksadjlsad\":154},\n",
    "    \"Peso\": {\"dksa\": 78, \"sadksa\":67, \"lksadjlsad\":56},\n",
    "    \"Hijos\": pd.Series([0,40,3],[\"dksa\", \"sadksa\",\"lksadjlsad\"])\n",
    "}\n",
    "df = pd.DataFrame(personas)\n",
    "df"
   ]
  },
  {
   "cell_type": "markdown",
   "id": "6bfa2996",
   "metadata": {},
   "source": [
    "### Acceso a las columnas de datos del DtaFrame"
   ]
  },
  {
   "cell_type": "code",
   "execution_count": 24,
   "id": "cd5e2cac",
   "metadata": {},
   "outputs": [
    {
     "data": {
      "text/html": [
       "<div>\n",
       "<style scoped>\n",
       "    .dataframe tbody tr th:only-of-type {\n",
       "        vertical-align: middle;\n",
       "    }\n",
       "\n",
       "    .dataframe tbody tr th {\n",
       "        vertical-align: top;\n",
       "    }\n",
       "\n",
       "    .dataframe thead th {\n",
       "        text-align: right;\n",
       "    }\n",
       "</style>\n",
       "<table border=\"1\" class=\"dataframe\">\n",
       "  <thead>\n",
       "    <tr style=\"text-align: right;\">\n",
       "      <th></th>\n",
       "      <th>Peso</th>\n",
       "      <th>Altura</th>\n",
       "    </tr>\n",
       "  </thead>\n",
       "  <tbody>\n",
       "    <tr>\n",
       "      <th>dksa</th>\n",
       "      <td>78</td>\n",
       "      <td>185</td>\n",
       "    </tr>\n",
       "    <tr>\n",
       "      <th>sadksa</th>\n",
       "      <td>67</td>\n",
       "      <td>160</td>\n",
       "    </tr>\n",
       "    <tr>\n",
       "      <th>lksadjlsad</th>\n",
       "      <td>56</td>\n",
       "      <td>154</td>\n",
       "    </tr>\n",
       "  </tbody>\n",
       "</table>\n",
       "</div>"
      ],
      "text/plain": [
       "            Peso  Altura\n",
       "dksa          78     185\n",
       "sadksa        67     160\n",
       "lksadjlsad    56     154"
      ]
     },
     "execution_count": 24,
     "metadata": {},
     "output_type": "execute_result"
    }
   ],
   "source": [
    "df[[\"Peso\", \"Altura\"]]"
   ]
  },
  {
   "cell_type": "code",
   "execution_count": 26,
   "id": "729affb6",
   "metadata": {},
   "outputs": [
    {
     "data": {
      "text/plain": [
       "dksa           True\n",
       "sadksa         True\n",
       "lksadjlsad    False\n",
       "Name: Peso, dtype: bool"
      ]
     },
     "execution_count": 26,
     "metadata": {},
     "output_type": "execute_result"
    }
   ],
   "source": [
    "# Pueden combinarse os metodos anterores con metrodo booleano\n",
    "\n",
    "df[\"Peso\"]>60"
   ]
  },
  {
   "cell_type": "code",
   "execution_count": 27,
   "id": "486d73cf",
   "metadata": {},
   "outputs": [
    {
     "data": {
      "text/html": [
       "<div>\n",
       "<style scoped>\n",
       "    .dataframe tbody tr th:only-of-type {\n",
       "        vertical-align: middle;\n",
       "    }\n",
       "\n",
       "    .dataframe tbody tr th {\n",
       "        vertical-align: top;\n",
       "    }\n",
       "\n",
       "    .dataframe thead th {\n",
       "        text-align: right;\n",
       "    }\n",
       "</style>\n",
       "<table border=\"1\" class=\"dataframe\">\n",
       "  <thead>\n",
       "    <tr style=\"text-align: right;\">\n",
       "      <th></th>\n",
       "      <th>Altura</th>\n",
       "      <th>Peso</th>\n",
       "      <th>Hijos</th>\n",
       "    </tr>\n",
       "  </thead>\n",
       "  <tbody>\n",
       "    <tr>\n",
       "      <th>dksa</th>\n",
       "      <td>185</td>\n",
       "      <td>78</td>\n",
       "      <td>0</td>\n",
       "    </tr>\n",
       "    <tr>\n",
       "      <th>sadksa</th>\n",
       "      <td>160</td>\n",
       "      <td>67</td>\n",
       "      <td>40</td>\n",
       "    </tr>\n",
       "  </tbody>\n",
       "</table>\n",
       "</div>"
      ],
      "text/plain": [
       "        Altura  Peso  Hijos\n",
       "dksa       185    78      0\n",
       "sadksa     160    67     40"
      ]
     },
     "execution_count": 27,
     "metadata": {},
     "output_type": "execute_result"
    }
   ],
   "source": [
    "df[df[\"Peso\"]>60]"
   ]
  },
  {
   "cell_type": "markdown",
   "id": "ff4e8669",
   "metadata": {},
   "source": [
    "#### Acceso a los elementos de la fila del DataFrame"
   ]
  },
  {
   "cell_type": "code",
   "execution_count": 28,
   "id": "db931e6f",
   "metadata": {},
   "outputs": [
    {
     "data": {
      "text/html": [
       "<div>\n",
       "<style scoped>\n",
       "    .dataframe tbody tr th:only-of-type {\n",
       "        vertical-align: middle;\n",
       "    }\n",
       "\n",
       "    .dataframe tbody tr th {\n",
       "        vertical-align: top;\n",
       "    }\n",
       "\n",
       "    .dataframe thead th {\n",
       "        text-align: right;\n",
       "    }\n",
       "</style>\n",
       "<table border=\"1\" class=\"dataframe\">\n",
       "  <thead>\n",
       "    <tr style=\"text-align: right;\">\n",
       "      <th></th>\n",
       "      <th>Altura</th>\n",
       "      <th>Peso</th>\n",
       "      <th>Hijos</th>\n",
       "    </tr>\n",
       "  </thead>\n",
       "  <tbody>\n",
       "    <tr>\n",
       "      <th>dksa</th>\n",
       "      <td>185</td>\n",
       "      <td>78</td>\n",
       "      <td>0</td>\n",
       "    </tr>\n",
       "    <tr>\n",
       "      <th>sadksa</th>\n",
       "      <td>160</td>\n",
       "      <td>67</td>\n",
       "      <td>40</td>\n",
       "    </tr>\n",
       "    <tr>\n",
       "      <th>lksadjlsad</th>\n",
       "      <td>154</td>\n",
       "      <td>56</td>\n",
       "      <td>3</td>\n",
       "    </tr>\n",
       "  </tbody>\n",
       "</table>\n",
       "</div>"
      ],
      "text/plain": [
       "            Altura  Peso  Hijos\n",
       "dksa           185    78      0\n",
       "sadksa         160    67     40\n",
       "lksadjlsad     154    56      3"
      ]
     },
     "execution_count": 28,
     "metadata": {},
     "output_type": "execute_result"
    }
   ],
   "source": [
    "# Mostrar el DF \n",
    "df\n"
   ]
  },
  {
   "cell_type": "code",
   "execution_count": 29,
   "id": "ecfcd15e",
   "metadata": {},
   "outputs": [
    {
     "data": {
      "text/html": [
       "<div>\n",
       "<style scoped>\n",
       "    .dataframe tbody tr th:only-of-type {\n",
       "        vertical-align: middle;\n",
       "    }\n",
       "\n",
       "    .dataframe tbody tr th {\n",
       "        vertical-align: top;\n",
       "    }\n",
       "\n",
       "    .dataframe thead th {\n",
       "        text-align: right;\n",
       "    }\n",
       "</style>\n",
       "<table border=\"1\" class=\"dataframe\">\n",
       "  <thead>\n",
       "    <tr style=\"text-align: right;\">\n",
       "      <th></th>\n",
       "      <th>Altura</th>\n",
       "      <th>Peso</th>\n",
       "      <th>Hijos</th>\n",
       "    </tr>\n",
       "  </thead>\n",
       "  <tbody>\n",
       "    <tr>\n",
       "      <th>sadksa</th>\n",
       "      <td>160</td>\n",
       "      <td>67</td>\n",
       "      <td>40</td>\n",
       "    </tr>\n",
       "    <tr>\n",
       "      <th>lksadjlsad</th>\n",
       "      <td>154</td>\n",
       "      <td>56</td>\n",
       "      <td>3</td>\n",
       "    </tr>\n",
       "  </tbody>\n",
       "</table>\n",
       "</div>"
      ],
      "text/plain": [
       "            Altura  Peso  Hijos\n",
       "sadksa         160    67     40\n",
       "lksadjlsad     154    56      3"
      ]
     },
     "execution_count": 29,
     "metadata": {},
     "output_type": "execute_result"
    }
   ],
   "source": [
    "df.loc[\"dksa\"]\n",
    "\n",
    "df.iloc[1:3]"
   ]
  },
  {
   "cell_type": "markdown",
   "id": "3c6232c5",
   "metadata": {},
   "source": [
    "### Consulta avanzada de los elementos de un DF"
   ]
  },
  {
   "cell_type": "code",
   "execution_count": 30,
   "id": "4f557a34",
   "metadata": {},
   "outputs": [
    {
     "data": {
      "text/html": [
       "<div>\n",
       "<style scoped>\n",
       "    .dataframe tbody tr th:only-of-type {\n",
       "        vertical-align: middle;\n",
       "    }\n",
       "\n",
       "    .dataframe tbody tr th {\n",
       "        vertical-align: top;\n",
       "    }\n",
       "\n",
       "    .dataframe thead th {\n",
       "        text-align: right;\n",
       "    }\n",
       "</style>\n",
       "<table border=\"1\" class=\"dataframe\">\n",
       "  <thead>\n",
       "    <tr style=\"text-align: right;\">\n",
       "      <th></th>\n",
       "      <th>Altura</th>\n",
       "      <th>Peso</th>\n",
       "      <th>Hijos</th>\n",
       "    </tr>\n",
       "  </thead>\n",
       "  <tbody>\n",
       "    <tr>\n",
       "      <th>dksa</th>\n",
       "      <td>185</td>\n",
       "      <td>78</td>\n",
       "      <td>0</td>\n",
       "    </tr>\n",
       "  </tbody>\n",
       "</table>\n",
       "</div>"
      ],
      "text/plain": [
       "      Altura  Peso  Hijos\n",
       "dksa     185    78      0"
      ]
     },
     "execution_count": 30,
     "metadata": {},
     "output_type": "execute_result"
    }
   ],
   "source": [
    "df.query(\"Altura >= 170 and Peso >70\")"
   ]
  },
  {
   "cell_type": "markdown",
   "id": "10a94d86",
   "metadata": {},
   "source": [
    "### Copear el DF"
   ]
  },
  {
   "cell_type": "code",
   "execution_count": 31,
   "id": "a2b740bc",
   "metadata": {},
   "outputs": [],
   "source": [
    "# Copear el DF dn df_copy \n",
    "# Nota: Al importar un elemento de df_copy no se modifica el df\n",
    "df_copy = df.copy()"
   ]
  },
  {
   "cell_type": "code",
   "execution_count": 32,
   "id": "aeacea90",
   "metadata": {},
   "outputs": [
    {
     "data": {
      "text/html": [
       "<div>\n",
       "<style scoped>\n",
       "    .dataframe tbody tr th:only-of-type {\n",
       "        vertical-align: middle;\n",
       "    }\n",
       "\n",
       "    .dataframe tbody tr th {\n",
       "        vertical-align: top;\n",
       "    }\n",
       "\n",
       "    .dataframe thead th {\n",
       "        text-align: right;\n",
       "    }\n",
       "</style>\n",
       "<table border=\"1\" class=\"dataframe\">\n",
       "  <thead>\n",
       "    <tr style=\"text-align: right;\">\n",
       "      <th></th>\n",
       "      <th>Altura</th>\n",
       "      <th>Peso</th>\n",
       "      <th>Hijos</th>\n",
       "    </tr>\n",
       "  </thead>\n",
       "  <tbody>\n",
       "    <tr>\n",
       "      <th>dksa</th>\n",
       "      <td>185</td>\n",
       "      <td>78</td>\n",
       "      <td>0</td>\n",
       "    </tr>\n",
       "    <tr>\n",
       "      <th>sadksa</th>\n",
       "      <td>160</td>\n",
       "      <td>67</td>\n",
       "      <td>40</td>\n",
       "    </tr>\n",
       "    <tr>\n",
       "      <th>lksadjlsad</th>\n",
       "      <td>154</td>\n",
       "      <td>56</td>\n",
       "      <td>3</td>\n",
       "    </tr>\n",
       "  </tbody>\n",
       "</table>\n",
       "</div>"
      ],
      "text/plain": [
       "            Altura  Peso  Hijos\n",
       "dksa           185    78      0\n",
       "sadksa         160    67     40\n",
       "lksadjlsad     154    56      3"
      ]
     },
     "execution_count": 32,
     "metadata": {},
     "output_type": "execute_result"
    }
   ],
   "source": [
    "df_copy"
   ]
  },
  {
   "cell_type": "markdown",
   "id": "5b8db2ce",
   "metadata": {},
   "source": [
    "#### Modificacion de un DF"
   ]
  },
  {
   "cell_type": "code",
   "execution_count": 38,
   "id": "3220e014",
   "metadata": {},
   "outputs": [
    {
     "data": {
      "text/html": [
       "<div>\n",
       "<style scoped>\n",
       "    .dataframe tbody tr th:only-of-type {\n",
       "        vertical-align: middle;\n",
       "    }\n",
       "\n",
       "    .dataframe tbody tr th {\n",
       "        vertical-align: top;\n",
       "    }\n",
       "\n",
       "    .dataframe thead th {\n",
       "        text-align: right;\n",
       "    }\n",
       "</style>\n",
       "<table border=\"1\" class=\"dataframe\">\n",
       "  <thead>\n",
       "    <tr style=\"text-align: right;\">\n",
       "      <th></th>\n",
       "      <th>Peso</th>\n",
       "      <th>Altura</th>\n",
       "      <th>Hijos</th>\n",
       "    </tr>\n",
       "  </thead>\n",
       "  <tbody>\n",
       "    <tr>\n",
       "      <th>dksa</th>\n",
       "      <td>78</td>\n",
       "      <td>185</td>\n",
       "      <td>0</td>\n",
       "    </tr>\n",
       "    <tr>\n",
       "      <th>sadksa</th>\n",
       "      <td>67</td>\n",
       "      <td>160</td>\n",
       "      <td>40</td>\n",
       "    </tr>\n",
       "    <tr>\n",
       "      <th>lksadjlsad</th>\n",
       "      <td>56</td>\n",
       "      <td>154</td>\n",
       "      <td>0</td>\n",
       "    </tr>\n",
       "  </tbody>\n",
       "</table>\n",
       "</div>"
      ],
      "text/plain": [
       "            Peso  Altura  Hijos\n",
       "dksa          78     185      0\n",
       "sadksa        67     160     40\n",
       "lksadjlsad    56     154      0"
      ]
     },
     "execution_count": 38,
     "metadata": {},
     "output_type": "execute_result"
    }
   ],
   "source": [
    "# Creación de un df e inicializarlo con un diccionario de objetos Series\n",
    "personas = {\n",
    "    \"Peso\": pd.Series([78,67,56], [\"dksa\", \"sadksa\", \"lksadjlsad\"]),\n",
    "    \"Altura\": pd.Series({\"dksa\":185, \"sadksa\": 160, \"lksadjlsad\": 154}),\n",
    "    \"Hijos\": pd.Series([0, 40, 0], [\"dksa\", \"sadksa\", \"lksadjlsad\"])\n",
    "}\n",
    "df = pd.DataFrame(personas)\n",
    "df"
   ]
  },
  {
   "cell_type": "code",
   "execution_count": 43,
   "id": "9fc25990",
   "metadata": {},
   "outputs": [
    {
     "data": {
      "text/html": [
       "<div>\n",
       "<style scoped>\n",
       "    .dataframe tbody tr th:only-of-type {\n",
       "        vertical-align: middle;\n",
       "    }\n",
       "\n",
       "    .dataframe tbody tr th {\n",
       "        vertical-align: top;\n",
       "    }\n",
       "\n",
       "    .dataframe thead th {\n",
       "        text-align: right;\n",
       "    }\n",
       "</style>\n",
       "<table border=\"1\" class=\"dataframe\">\n",
       "  <thead>\n",
       "    <tr style=\"text-align: right;\">\n",
       "      <th></th>\n",
       "      <th>Peso</th>\n",
       "      <th>Altura</th>\n",
       "      <th>Hijos</th>\n",
       "      <th>Año</th>\n",
       "      <th>Edad</th>\n",
       "    </tr>\n",
       "  </thead>\n",
       "  <tbody>\n",
       "    <tr>\n",
       "      <th>dksa</th>\n",
       "      <td>78</td>\n",
       "      <td>185</td>\n",
       "      <td>0</td>\n",
       "      <td>2005</td>\n",
       "      <td>20</td>\n",
       "    </tr>\n",
       "    <tr>\n",
       "      <th>sadksa</th>\n",
       "      <td>67</td>\n",
       "      <td>160</td>\n",
       "      <td>40</td>\n",
       "      <td>2005</td>\n",
       "      <td>20</td>\n",
       "    </tr>\n",
       "    <tr>\n",
       "      <th>lksadjlsad</th>\n",
       "      <td>56</td>\n",
       "      <td>154</td>\n",
       "      <td>0</td>\n",
       "      <td>2008</td>\n",
       "      <td>17</td>\n",
       "    </tr>\n",
       "  </tbody>\n",
       "</table>\n",
       "</div>"
      ],
      "text/plain": [
       "            Peso  Altura  Hijos   Año  Edad\n",
       "dksa          78     185      0  2005    20\n",
       "sadksa        67     160     40  2005    20\n",
       "lksadjlsad    56     154      0  2008    17"
      ]
     },
     "execution_count": 43,
     "metadata": {},
     "output_type": "execute_result"
    }
   ],
   "source": [
    "# Añadir nueva columna al DF\n",
    "df[\"Año\"] = [2005, 2005, 2008]\n",
    "df"
   ]
  },
  {
   "cell_type": "code",
   "execution_count": 44,
   "id": "6966e860",
   "metadata": {},
   "outputs": [
    {
     "data": {
      "text/html": [
       "<div>\n",
       "<style scoped>\n",
       "    .dataframe tbody tr th:only-of-type {\n",
       "        vertical-align: middle;\n",
       "    }\n",
       "\n",
       "    .dataframe tbody tr th {\n",
       "        vertical-align: top;\n",
       "    }\n",
       "\n",
       "    .dataframe thead th {\n",
       "        text-align: right;\n",
       "    }\n",
       "</style>\n",
       "<table border=\"1\" class=\"dataframe\">\n",
       "  <thead>\n",
       "    <tr style=\"text-align: right;\">\n",
       "      <th></th>\n",
       "      <th>Peso</th>\n",
       "      <th>Altura</th>\n",
       "      <th>Hijos</th>\n",
       "      <th>Año</th>\n",
       "      <th>Edad</th>\n",
       "    </tr>\n",
       "  </thead>\n",
       "  <tbody>\n",
       "    <tr>\n",
       "      <th>dksa</th>\n",
       "      <td>78</td>\n",
       "      <td>185</td>\n",
       "      <td>0</td>\n",
       "      <td>2005</td>\n",
       "      <td>20</td>\n",
       "    </tr>\n",
       "    <tr>\n",
       "      <th>sadksa</th>\n",
       "      <td>67</td>\n",
       "      <td>160</td>\n",
       "      <td>40</td>\n",
       "      <td>2005</td>\n",
       "      <td>20</td>\n",
       "    </tr>\n",
       "    <tr>\n",
       "      <th>lksadjlsad</th>\n",
       "      <td>56</td>\n",
       "      <td>154</td>\n",
       "      <td>0</td>\n",
       "      <td>2008</td>\n",
       "      <td>17</td>\n",
       "    </tr>\n",
       "  </tbody>\n",
       "</table>\n",
       "</div>"
      ],
      "text/plain": [
       "            Peso  Altura  Hijos   Año  Edad\n",
       "dksa          78     185      0  2005    20\n",
       "sadksa        67     160     40  2005    20\n",
       "lksadjlsad    56     154      0  2008    17"
      ]
     },
     "execution_count": 44,
     "metadata": {},
     "output_type": "execute_result"
    }
   ],
   "source": [
    "# Añadiir nueva columna calculada al df\n",
    "df[\"Edad\"] = 2025 - df[\"Año\"]\n",
    "df"
   ]
  },
  {
   "cell_type": "code",
   "execution_count": 46,
   "id": "5f93ff7a",
   "metadata": {},
   "outputs": [
    {
     "data": {
      "text/html": [
       "<div>\n",
       "<style scoped>\n",
       "    .dataframe tbody tr th:only-of-type {\n",
       "        vertical-align: middle;\n",
       "    }\n",
       "\n",
       "    .dataframe tbody tr th {\n",
       "        vertical-align: top;\n",
       "    }\n",
       "\n",
       "    .dataframe thead th {\n",
       "        text-align: right;\n",
       "    }\n",
       "</style>\n",
       "<table border=\"1\" class=\"dataframe\">\n",
       "  <thead>\n",
       "    <tr style=\"text-align: right;\">\n",
       "      <th></th>\n",
       "      <th>Peso</th>\n",
       "      <th>Altura</th>\n",
       "      <th>Hijos</th>\n",
       "      <th>Año</th>\n",
       "      <th>Edad</th>\n",
       "      <th>mascotas</th>\n",
       "    </tr>\n",
       "  </thead>\n",
       "  <tbody>\n",
       "    <tr>\n",
       "      <th>dksa</th>\n",
       "      <td>78</td>\n",
       "      <td>185</td>\n",
       "      <td>0</td>\n",
       "      <td>2005</td>\n",
       "      <td>20</td>\n",
       "      <td>1</td>\n",
       "    </tr>\n",
       "    <tr>\n",
       "      <th>sadksa</th>\n",
       "      <td>67</td>\n",
       "      <td>160</td>\n",
       "      <td>40</td>\n",
       "      <td>2005</td>\n",
       "      <td>20</td>\n",
       "      <td>2</td>\n",
       "    </tr>\n",
       "    <tr>\n",
       "      <th>lksadjlsad</th>\n",
       "      <td>56</td>\n",
       "      <td>154</td>\n",
       "      <td>0</td>\n",
       "      <td>2008</td>\n",
       "      <td>17</td>\n",
       "      <td>1</td>\n",
       "    </tr>\n",
       "  </tbody>\n",
       "</table>\n",
       "</div>"
      ],
      "text/plain": [
       "            Peso  Altura  Hijos   Año  Edad  mascotas\n",
       "dksa          78     185      0  2005    20         1\n",
       "sadksa        67     160     40  2005    20         2\n",
       "lksadjlsad    56     154      0  2008    17         1"
      ]
     },
     "execution_count": 46,
     "metadata": {},
     "output_type": "execute_result"
    }
   ],
   "source": [
    "# Añadir una nueva columna creando en DF Nuevo\n",
    "df_mod = df.assign(mascotas = [1,2,1])\n",
    "df_mod"
   ]
  },
  {
   "cell_type": "code",
   "execution_count": 47,
   "id": "81493b55",
   "metadata": {},
   "outputs": [],
   "source": [
    "# Eliminar una columna existente de l DF\n",
    "del df_mod[\"Año\"]"
   ]
  },
  {
   "cell_type": "code",
   "execution_count": 48,
   "id": "8944c331",
   "metadata": {},
   "outputs": [
    {
     "data": {
      "text/html": [
       "<div>\n",
       "<style scoped>\n",
       "    .dataframe tbody tr th:only-of-type {\n",
       "        vertical-align: middle;\n",
       "    }\n",
       "\n",
       "    .dataframe tbody tr th {\n",
       "        vertical-align: top;\n",
       "    }\n",
       "\n",
       "    .dataframe thead th {\n",
       "        text-align: right;\n",
       "    }\n",
       "</style>\n",
       "<table border=\"1\" class=\"dataframe\">\n",
       "  <thead>\n",
       "    <tr style=\"text-align: right;\">\n",
       "      <th></th>\n",
       "      <th>Peso</th>\n",
       "      <th>Altura</th>\n",
       "      <th>Hijos</th>\n",
       "      <th>Edad</th>\n",
       "      <th>mascotas</th>\n",
       "    </tr>\n",
       "  </thead>\n",
       "  <tbody>\n",
       "    <tr>\n",
       "      <th>dksa</th>\n",
       "      <td>78</td>\n",
       "      <td>185</td>\n",
       "      <td>0</td>\n",
       "      <td>20</td>\n",
       "      <td>1</td>\n",
       "    </tr>\n",
       "    <tr>\n",
       "      <th>sadksa</th>\n",
       "      <td>67</td>\n",
       "      <td>160</td>\n",
       "      <td>40</td>\n",
       "      <td>20</td>\n",
       "      <td>2</td>\n",
       "    </tr>\n",
       "    <tr>\n",
       "      <th>lksadjlsad</th>\n",
       "      <td>56</td>\n",
       "      <td>154</td>\n",
       "      <td>0</td>\n",
       "      <td>17</td>\n",
       "      <td>1</td>\n",
       "    </tr>\n",
       "  </tbody>\n",
       "</table>\n",
       "</div>"
      ],
      "text/plain": [
       "            Peso  Altura  Hijos  Edad  mascotas\n",
       "dksa          78     185      0    20         1\n",
       "sadksa        67     160     40    20         2\n",
       "lksadjlsad    56     154      0    17         1"
      ]
     },
     "execution_count": 48,
     "metadata": {},
     "output_type": "execute_result"
    }
   ],
   "source": [
    "df_mod"
   ]
  },
  {
   "cell_type": "code",
   "execution_count": 49,
   "id": "3a0222ce",
   "metadata": {},
   "outputs": [
    {
     "data": {
      "text/html": [
       "<div>\n",
       "<style scoped>\n",
       "    .dataframe tbody tr th:only-of-type {\n",
       "        vertical-align: middle;\n",
       "    }\n",
       "\n",
       "    .dataframe tbody tr th {\n",
       "        vertical-align: top;\n",
       "    }\n",
       "\n",
       "    .dataframe thead th {\n",
       "        text-align: right;\n",
       "    }\n",
       "</style>\n",
       "<table border=\"1\" class=\"dataframe\">\n",
       "  <thead>\n",
       "    <tr style=\"text-align: right;\">\n",
       "      <th></th>\n",
       "      <th>Peso</th>\n",
       "      <th>Altura</th>\n",
       "      <th>Año</th>\n",
       "      <th>Edad</th>\n",
       "    </tr>\n",
       "  </thead>\n",
       "  <tbody>\n",
       "    <tr>\n",
       "      <th>dksa</th>\n",
       "      <td>78</td>\n",
       "      <td>185</td>\n",
       "      <td>2005</td>\n",
       "      <td>20</td>\n",
       "    </tr>\n",
       "    <tr>\n",
       "      <th>sadksa</th>\n",
       "      <td>67</td>\n",
       "      <td>160</td>\n",
       "      <td>2005</td>\n",
       "      <td>20</td>\n",
       "    </tr>\n",
       "    <tr>\n",
       "      <th>lksadjlsad</th>\n",
       "      <td>56</td>\n",
       "      <td>154</td>\n",
       "      <td>2008</td>\n",
       "      <td>17</td>\n",
       "    </tr>\n",
       "  </tbody>\n",
       "</table>\n",
       "</div>"
      ],
      "text/plain": [
       "            Peso  Altura   Año  Edad\n",
       "dksa          78     185  2005    20\n",
       "sadksa        67     160  2005    20\n",
       "lksadjlsad    56     154  2008    17"
      ]
     },
     "execution_count": 49,
     "metadata": {},
     "output_type": "execute_result"
    }
   ],
   "source": [
    "# Eliminar una columna existente de una copia del DF resultante\n",
    "df_mod = df.drop([\"Hijos\"], axis=1)\n",
    "df_mod"
   ]
  },
  {
   "cell_type": "markdown",
   "id": "d7f97d75",
   "metadata": {},
   "source": [
    "#### Evalucion de expresiones sobre DF"
   ]
  },
  {
   "cell_type": "code",
   "execution_count": 52,
   "id": "32660cb2",
   "metadata": {},
   "outputs": [
    {
     "data": {
      "text/html": [
       "<div>\n",
       "<style scoped>\n",
       "    .dataframe tbody tr th:only-of-type {\n",
       "        vertical-align: middle;\n",
       "    }\n",
       "\n",
       "    .dataframe tbody tr th {\n",
       "        vertical-align: top;\n",
       "    }\n",
       "\n",
       "    .dataframe thead th {\n",
       "        text-align: right;\n",
       "    }\n",
       "</style>\n",
       "<table border=\"1\" class=\"dataframe\">\n",
       "  <thead>\n",
       "    <tr style=\"text-align: right;\">\n",
       "      <th></th>\n",
       "      <th>Peso</th>\n",
       "      <th>Altura</th>\n",
       "      <th>Hijos</th>\n",
       "      <th>Año</th>\n",
       "      <th>Edad</th>\n",
       "      <th>Media_Altura</th>\n",
       "    </tr>\n",
       "  </thead>\n",
       "  <tbody>\n",
       "    <tr>\n",
       "      <th>dksa</th>\n",
       "      <td>78</td>\n",
       "      <td>185</td>\n",
       "      <td>0</td>\n",
       "      <td>2005</td>\n",
       "      <td>20</td>\n",
       "      <td>92.5</td>\n",
       "    </tr>\n",
       "    <tr>\n",
       "      <th>sadksa</th>\n",
       "      <td>67</td>\n",
       "      <td>160</td>\n",
       "      <td>40</td>\n",
       "      <td>2005</td>\n",
       "      <td>20</td>\n",
       "      <td>80.0</td>\n",
       "    </tr>\n",
       "    <tr>\n",
       "      <th>lksadjlsad</th>\n",
       "      <td>56</td>\n",
       "      <td>154</td>\n",
       "      <td>0</td>\n",
       "      <td>2008</td>\n",
       "      <td>17</td>\n",
       "      <td>77.0</td>\n",
       "    </tr>\n",
       "  </tbody>\n",
       "</table>\n",
       "</div>"
      ],
      "text/plain": [
       "            Peso  Altura  Hijos   Año  Edad  Media_Altura\n",
       "dksa          78     185      0  2005    20          92.5\n",
       "sadksa        67     160     40  2005    20          80.0\n",
       "lksadjlsad    56     154      0  2008    17          77.0"
      ]
     },
     "execution_count": 52,
     "metadata": {},
     "output_type": "execute_result"
    }
   ],
   "source": [
    "# Evaluar una funcion sobre una columna del DF\n",
    "df.eval(\"Media_Altura = Altura / 2\", inplace=True)\n",
    "df"
   ]
  },
  {
   "cell_type": "code",
   "execution_count": 53,
   "id": "31180fc3",
   "metadata": {},
   "outputs": [
    {
     "data": {
      "text/plain": [
       "dksa           True\n",
       "sadksa        False\n",
       "lksadjlsad    False\n",
       "Name: Altura, dtype: bool"
      ]
     },
     "execution_count": 53,
     "metadata": {},
     "output_type": "execute_result"
    }
   ],
   "source": [
    "# Evaluar una Función utilizando una variable local\n",
    "max_altura = 180\n",
    "df.eval(\"Altura > @max_altura\")"
   ]
  },
  {
   "cell_type": "code",
   "execution_count": 54,
   "id": "1778b088",
   "metadata": {},
   "outputs": [
    {
     "data": {
      "text/plain": [
       "dksa          80\n",
       "sadksa        69\n",
       "lksadjlsad    58\n",
       "Name: Peso, dtype: int64"
      ]
     },
     "execution_count": 54,
     "metadata": {},
     "output_type": "execute_result"
    }
   ],
   "source": [
    "# Aplixar una funcion externa a una columna del DF\n",
    "def func(x):\n",
    "    return x + 2\n",
    "df[\"Peso\"].apply(func)"
   ]
  },
  {
   "cell_type": "code",
   "execution_count": 55,
   "id": "12711acd",
   "metadata": {},
   "outputs": [
    {
     "data": {
      "text/html": [
       "<div>\n",
       "<style scoped>\n",
       "    .dataframe tbody tr th:only-of-type {\n",
       "        vertical-align: middle;\n",
       "    }\n",
       "\n",
       "    .dataframe tbody tr th {\n",
       "        vertical-align: top;\n",
       "    }\n",
       "\n",
       "    .dataframe thead th {\n",
       "        text-align: right;\n",
       "    }\n",
       "</style>\n",
       "<table border=\"1\" class=\"dataframe\">\n",
       "  <thead>\n",
       "    <tr style=\"text-align: right;\">\n",
       "      <th></th>\n",
       "      <th>Peso</th>\n",
       "      <th>Altura</th>\n",
       "      <th>Año</th>\n",
       "      <th>Edad</th>\n",
       "    </tr>\n",
       "  </thead>\n",
       "  <tbody>\n",
       "    <tr>\n",
       "      <th>dksa</th>\n",
       "      <td>78</td>\n",
       "      <td>185</td>\n",
       "      <td>2005</td>\n",
       "      <td>20</td>\n",
       "    </tr>\n",
       "    <tr>\n",
       "      <th>sadksa</th>\n",
       "      <td>67</td>\n",
       "      <td>160</td>\n",
       "      <td>2005</td>\n",
       "      <td>20</td>\n",
       "    </tr>\n",
       "    <tr>\n",
       "      <th>lksadjlsad</th>\n",
       "      <td>56</td>\n",
       "      <td>154</td>\n",
       "      <td>2008</td>\n",
       "      <td>17</td>\n",
       "    </tr>\n",
       "  </tbody>\n",
       "</table>\n",
       "</div>"
      ],
      "text/plain": [
       "            Peso  Altura   Año  Edad\n",
       "dksa          78     185  2005    20\n",
       "sadksa        67     160  2005    20\n",
       "lksadjlsad    56     154  2008    17"
      ]
     },
     "execution_count": 55,
     "metadata": {},
     "output_type": "execute_result"
    }
   ],
   "source": [
    "df_mod"
   ]
  },
  {
   "cell_type": "markdown",
   "id": "f72c7b49",
   "metadata": {},
   "source": [
    "#### Guardar y cargar el DF"
   ]
  },
  {
   "cell_type": "markdown",
   "id": "a4ae3171",
   "metadata": {},
   "source": []
  }
 ],
 "metadata": {
  "kernelspec": {
   "display_name": "Python 3",
   "language": "python",
   "name": "python3"
  },
  "language_info": {
   "codemirror_mode": {
    "name": "ipython",
    "version": 3
   },
   "file_extension": ".py",
   "mimetype": "text/x-python",
   "name": "python",
   "nbconvert_exporter": "python",
   "pygments_lexer": "ipython3",
   "version": "3.13.7"
  }
 },
 "nbformat": 4,
 "nbformat_minor": 5
}
