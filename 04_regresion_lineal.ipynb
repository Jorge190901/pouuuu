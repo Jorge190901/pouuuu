{
 "cells": [
  {
   "cell_type": "markdown",
   "id": "2635421d",
   "metadata": {},
   "source": [
    "# Regresion lineal: coso de un incidente de seguridad "
   ]
  },
  {
   "cell_type": "markdown",
   "id": "375a7284",
   "metadata": {},
   "source": [
    "## Enunciado del ejercicio\n",
    "\n",
    "El ejercicio consiste en ptedeci el costo de un encidente de seguridad en un numero de equipos afectados. El daraSet es generado \n",
    "de manera aleatoria."
   ]
  },
  {
   "cell_type": "markdown",
   "id": "1da626ad",
   "metadata": {},
   "source": [
    "### 1._ Generacion del DataSet. "
   ]
  },
  {
   "cell_type": "code",
   "execution_count": null,
   "id": "f2494a39",
   "metadata": {},
   "outputs": [
    {
     "ename": "SyntaxError",
     "evalue": "invalid syntax (894798535.py, line 4)",
     "output_type": "error",
     "traceback": [
      "  \u001b[36mCell\u001b[39m\u001b[36m \u001b[39m\u001b[32mIn[18]\u001b[39m\u001b[32m, line 4\u001b[39m\n\u001b[31m    \u001b[39m\u001b[31my = 4 + 3 * x np.random .randn(100, 1)\u001b[39m\n                  ^\n\u001b[31mSyntaxError\u001b[39m\u001b[31m:\u001b[39m invalid syntax\n"
     ]
    }
   ],
   "source": [
    "\n",
    "import numpy as np\n",
    "\n",
    "x = 2 * np.random.rand(100, 1)\n",
    "y = 4 + 3 * x np.random .randn(100, 1)\n",
    "\n",
    "print(\"la longuitud del DataSet es de: \", len(x))"
   ]
  },
  {
   "cell_type": "markdown",
   "id": "990be40d",
   "metadata": {},
   "source": [
    "### 2. Visualizacion del DataSet "
   ]
  },
  {
   "cell_type": "code",
   "execution_count": null,
   "id": "3da62d26",
   "metadata": {},
   "outputs": [],
   "source": [
    "import matplotlib.pyplot as plt\n",
    "%matplotlib inline "
   ]
  },
  {
   "cell_type": "code",
   "execution_count": null,
   "id": "5a1ff423",
   "metadata": {},
   "outputs": [],
   "source": [
    "plt.plot(x, y \"b.\")\n",
    "plt.show()"
   ]
  },
  {
   "cell_type": "code",
   "execution_count": null,
   "id": "033fd5f1",
   "metadata": {},
   "outputs": [],
   "source": [
    "plt.plot(x, y \"b.\")\n",
    "plt.xlabel(\"Equipos afectados (Unidaes/1000)\")\n",
    "plt.ylabel(\"costos del insidente (u/1000)\")\n",
    "\n",
    "plt.show()"
   ]
  },
  {
   "cell_type": "markdown",
   "id": "862b9b88",
   "metadata": {},
   "source": [
    "### 3. Modificacion del DataSet "
   ]
  },
  {
   "cell_type": "code",
   "execution_count": null,
   "id": "8592d8f0",
   "metadata": {},
   "outputs": [],
   "source": [
    "import pandas as pd\n",
    "ata = {'no_equipos_afectados': x.flatten(), 'costo': y.flatten()}\n",
    "df = pd.DataFrame(data)\n",
    "df.head(10)"
   ]
  },
  {
   "cell_type": "code",
   "execution_count": null,
   "id": "63790a1d",
   "metadata": {},
   "outputs": [],
   "source": [
    "# Escalado del numero de equipos afectados \n",
    "\n",
    "df['no_Equipos_Afectados'] = df['no_Equipos_Afectados'] * 1000\n",
    "df['no_Equipos_Afectados'] = df['no_Equipos_Afectados'].astype(int)\n",
    "\n",
    "df['costo'] = df['costo'] * 10000\n",
    "df['costo'] = df['costo'].astype(int)\n",
    "df.head(10)"
   ]
  },
  {
   "cell_type": "code",
   "execution_count": null,
   "id": "43738b83",
   "metadata": {},
   "outputs": [],
   "source": [
    "# Representacion grafica del dataset \n",
    "plt.plot(df['No_Equipos_Afectados'], df[costo], \"b\")\n",
    "plt.xlabel(\"Equipos Afectados\")\n",
    "plt.ylabel(\"costos\")\n",
    "plt.title(\"Costo vs Equipos Afectados\")\n",
    "plt.show"
   ]
  },
  {
   "cell_type": "markdown",
   "id": "88aae97b",
   "metadata": {},
   "source": [
    "###.  Costruccion del modelo "
   ]
  },
  {
   "cell_type": "code",
   "execution_count": null,
   "id": "d398d638",
   "metadata": {},
   "outputs": [
    {
     "ename": "ModuleNotFoundError",
     "evalue": "No module named 'sklearn'",
     "output_type": "error",
     "traceback": [
      "\u001b[31m---------------------------------------------------------------------------\u001b[39m",
      "\u001b[31mModuleNotFoundError\u001b[39m                       Traceback (most recent call last)",
      "\u001b[36mCell\u001b[39m\u001b[36m \u001b[39m\u001b[32mIn[5]\u001b[39m\u001b[32m, line 1\u001b[39m\n\u001b[32m----> \u001b[39m\u001b[32m1\u001b[39m \u001b[38;5;28;01mfrom\u001b[39;00m\u001b[38;5;250m \u001b[39m\u001b[34;01msklearn\u001b[39;00m\u001b[34;01m.\u001b[39;00m\u001b[34;01mlinear_model\u001b[39;00m\u001b[38;5;250m \u001b[39m\u001b[38;5;28;01mimport\u001b[39;00m LinearRegression\n",
      "\u001b[31mModuleNotFoundError\u001b[39m: No module named 'sklearn'"
     ]
    }
   ],
   "source": [
    "from sklearn.linear_model import LinearRegression"
   ]
  },
  {
   "cell_type": "code",
   "execution_count": null,
   "id": "67a21906",
   "metadata": {},
   "outputs": [],
   "source": [
    "# Costruccion y ajuste de la funcion de hipotesis\n",
    "lin_reg = LinearRegression()\n",
    "lin_reg.fit(df['No_Equipos_Afectados'].value_reshape(-1, 1) df['Costo'].values)\n"
   ]
  },
  {
   "cell_type": "code",
   "execution_count": null,
   "id": "cb10d5f5",
   "metadata": {},
   "outputs": [],
   "source": [
    "# Optener el parametro teta 0\n",
    "lin_reg.intercept_"
   ]
  },
  {
   "cell_type": "code",
   "execution_count": null,
   "id": "8170547d",
   "metadata": {},
   "outputs": [],
   "source": [
    "# Parametro Theta 1\n",
    "lin_reg.coef_"
   ]
  },
  {
   "cell_type": "code",
   "execution_count": null,
   "id": "55b0a956",
   "metadata": {},
   "outputs": [],
   "source": [
    "# Prediccion para el valor minimo y maximo del dataset de enyrenamoento \n",
    "x_min_max = np.array([[df['No_Equipos_Afectados'].min()] [df['No_Equipos_Afectados']]])\n",
    "pred = lin_reg.predict(x_min_max)"
   ]
  },
  {
   "cell_type": "code",
   "execution_count": null,
   "id": "4667ce70",
   "metadata": {},
   "outputs": [],
   "source": []
  }
 ],
 "metadata": {
  "kernelspec": {
   "display_name": "Python 3",
   "language": "python",
   "name": "python3"
  },
  "language_info": {
   "codemirror_mode": {
    "name": "ipython",
    "version": 3
   },
   "file_extension": ".py",
   "mimetype": "text/x-python",
   "name": "python",
   "nbconvert_exporter": "python",
   "pygments_lexer": "ipython3",
   "version": "3.13.7"
  }
 },
 "nbformat": 4,
 "nbformat_minor": 5
}
